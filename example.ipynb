{
 "cells": [
  {
   "metadata": {},
   "cell_type": "markdown",
   "source": [
    "# Example of Chrocos application on  different graphs topologies\n",
    "## Franck Delaplace - Paris Saclay University"
   ],
   "id": "6e1f05dc68fb37a5"
  },
  {
   "cell_type": "code",
   "id": "c4180e954c4c298",
   "metadata": {},
   "source": [
    "import networkx as nx\n",
    "import matplotlib.pyplot as plt\n",
    "from tabulate import tabulate\n",
    "from chrocos import *"
   ],
   "outputs": [],
   "execution_count": null
  },
  {
   "metadata": {},
   "cell_type": "markdown",
   "source": [
    "## Function\n",
    "The function computes the colored communities for a graph and draw the result."
   ],
   "id": "86d55b91e5f25b9c"
  },
  {
   "metadata": {},
   "cell_type": "code",
   "source": [
    "def graphexample(G,r:int, position, title, transparency=0.0):\n",
    "    \"\"\"Example of ChroCoDe computation on a graph.\n",
    "    :param G: Networkx graph\n",
    "    :type G: networkx.Graph\n",
    "    :param r: number of colors\n",
    "    :type r: int\n",
    "    :param position: Position of the node\n",
    "    :type position: dict\n",
    "    :param title: Title of the figure\n",
    "    :type title: str\n",
    "    :param transparency: probability of transparent nodes.\n",
    "    (Defaults: 0.0).\n",
    "    :type transparency: float\n",
    "    :returns: Graph Drawing\n",
    "    :rtype: None\n",
    "    \"\"\"\n",
    "\n",
    "    seeds = GenerateSeeds(G, r)  # generate seeds - they represent the 'corners' of the grid graph.\n",
    "    RandomColoring(G, seeds, density=0.3, transparency=transparency, color=\"color\")  # color the graph randomly.\n",
    "    cp = nx.get_node_attributes(G, \"color\")  # get the color profile.\n",
    "\n",
    "    P0 = MonochromeCommunityStructure(G, color=\"color\")\n",
    "    plt.subplot(221)\n",
    "    plt.title(\n",
    "        title\n",
    "        + \" network: Monochrome community: Hk=%4.2f, Hg=%4.2f\"\n",
    "        % (H(P0, cp, 4, Kappa), H(P0, cp, 4, Gamma))\n",
    "        )\n",
    "    DrawColoredGraph(G, pos=position)  # Display the graph\n",
    "\n",
    "    # RADIUS = 1\n",
    "    print(\"radius=1\")\n",
    "    P = ChroCoDe(G, r, radius=1, funenum=Gamma, color=\"color\")\n",
    "\n",
    "    # print the community structure.\n",
    "    print(\"P=\")\n",
    "    print(tabulate(P,tablefmt=\"plain\"))\n",
    "\n",
    "    # Display the result\n",
    "    plt.subplot(223)\n",
    "    plt.title(\n",
    "        \"radius=1 - Hg=\"\n",
    "        + \"{:.3e}\".format(H(P, cp, 4, Gamma))\n",
    "        + \" - Hk=\"\n",
    "        + \"{:.3e}\".format(H(P, cp, 4, funenum=Kappa))\n",
    "    )\n",
    "    DrawChroCoS(G, P, pos=position)  # Display the community structure on the graph\n",
    "\n",
    "    # RADIUS = 2 (default value)\n",
    "    print(\"radius=2\")\n",
    "    P = ChroCoDe(G, r, funenum=Gamma)\n",
    "\n",
    "    #   print the community structure.\n",
    "    print(\"P=\")\n",
    "    print(tabulate(P,tablefmt=\"plain\"))\n",
    "\n",
    "    # Display the result\n",
    "    plt.subplot(224)\n",
    "    plt.title(\n",
    "        \"radius=2 - Hg=\"\n",
    "        + \"{:.3e}\".format(H(P, cp, 4, Gamma))\n",
    "        + \" - Hk=\"\n",
    "        + \"{:.3e}\".format(H(P, cp, 4, funenum=Kappa))\n",
    "    )\n",
    "    DrawChroCoS(G, P, theme=\"pastel\", pos=position)  # Display the community structure on the graph\n",
    "\n",
    "    # Show\n",
    "    plt.show()"
   ],
   "id": "b50f1bed8bb4745a",
   "outputs": [],
   "execution_count": null
  },
  {
   "metadata": {},
   "cell_type": "markdown",
   "source": [
    "## Computation of Colored Community\n",
    "Different topologies are used to illustrate the application of `chrocos`"
   ],
   "id": "4ab97f09a0dfe272"
  },
  {
   "metadata": {},
   "cell_type": "code",
   "source": "r = 4  # number of colors",
   "id": "a0c470669c4b2edf",
   "outputs": [],
   "execution_count": null
  },
  {
   "metadata": {},
   "cell_type": "markdown",
   "source": "### Grid Graph",
   "id": "fb884d0128490df0"
  },
  {
   "metadata": {},
   "cell_type": "code",
   "source": [
    "print(\"GRID GRAPH\")\n",
    "plt.figure(figsize=(10, 10))  # set size of the output graphic view\n",
    "n = 8\n",
    "GD = nx.grid_2d_graph(n, n)\n",
    "G = nx.convert_node_labels_to_integers(GD)  # rename the vertices as integers\n",
    "\n",
    "gridposition = dict(zip(G, GD))  # define position as label of the initial graph\n",
    "graphexample(G, r, gridposition, \"Grid\")"
   ],
   "id": "a6b54832c782d5d3",
   "outputs": [],
   "execution_count": null
  },
  {
   "metadata": {},
   "cell_type": "markdown",
   "source": "### Small World",
   "id": "7efcbcf4a2c85359"
  },
  {
   "metadata": {},
   "cell_type": "code",
   "source": [
    "print(\"SMALL WORLD\")\n",
    "plt.figure(figsize=(15, 10))  # set size of the output graphic view\n",
    "n = 40\n",
    "G = nx.connected_watts_strogatz_graph(n, 2, 0.6)\n",
    "\n",
    "position = nx.kamada_kawai_layout(G)\n",
    "graphexample(G,r, position, \"Small World\")"
   ],
   "id": "debf757729c3f9b3",
   "outputs": [],
   "execution_count": null
  },
  {
   "metadata": {},
   "cell_type": "markdown",
   "source": "### Erdos Reny",
   "id": "56428ffa6c1b6d47"
  },
  {
   "metadata": {},
   "cell_type": "code",
   "source": [
    "print(\"ERDOS RENY\")\n",
    "plt.figure(figsize=(15, 10))  # set size of the output graphic view\n",
    "n = 40\n",
    "single_component = False\n",
    "while not single_component:\n",
    "        G = nx.erdos_renyi_graph(n, 0.05)\n",
    "        single_component=nx.is_connected(G)\n",
    "\n",
    "position = nx.kamada_kawai_layout(G)\n",
    "graphexample(G,r, position, \"Erdös Reny\")"
   ],
   "id": "dc44f9a1f423bed2",
   "outputs": [],
   "execution_count": null
  },
  {
   "metadata": {},
   "cell_type": "markdown",
   "source": "### Scale Free",
   "id": "c1560921e3632c48"
  },
  {
   "metadata": {
    "collapsed": true
   },
   "cell_type": "code",
   "source": [
    "print(\"Scale Free\")\n",
    "plt.figure(figsize=(15, 10))  # set size of the output graphic view\n",
    "n = 40\n",
    "SFG = nx.scale_free_graph(n)\n",
    "SFG.remove_edges_from(nx.selfloop_edges(SFG))\n",
    "G = SFG.to_undirected()\n",
    "\n",
    "position =nx.kamada_kawai_layout(G)\n",
    "graphexample(G,r, position, \"Scale Free\")"
   ],
   "id": "initial_id",
   "outputs": [],
   "execution_count": null
  }
 ],
 "metadata": {
  "kernelspec": {
   "display_name": "Python 3",
   "language": "python",
   "name": "python3"
  },
  "language_info": {
   "codemirror_mode": {
    "name": "ipython",
    "version": 2
   },
   "file_extension": ".py",
   "mimetype": "text/x-python",
   "name": "python",
   "nbconvert_exporter": "python",
   "pygments_lexer": "ipython2",
   "version": "2.7.6"
  }
 },
 "nbformat": 4,
 "nbformat_minor": 5
}
